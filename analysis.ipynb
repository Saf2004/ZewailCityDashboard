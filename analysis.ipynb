{
 "cells": [
  {
   "cell_type": "code",
   "execution_count": null,
   "id": "initial_id",
   "metadata": {
    "collapsed": true
   },
   "outputs": [],
   "source": []
  },
  {
   "cell_type": "code",
   "execution_count": 1,
   "outputs": [
    {
     "data": {
      "text/plain": "   Unnamed: 0  student_id     student_major  student_age  student_gpa  \\\n0           0           1           Science           24         3.91   \n1           1           2       Engineering           23         0.92   \n2           2           3  Computer Science           20         1.10   \n3           3           4       Mathematics           22         3.73   \n4           4           5           Science           21         1.59   \n\n  is_undergrad  scholarship_percentage  student_outstanding_fees  \\\n0          yes                      35                         0   \n1          yes                       0                         0   \n2          yes                       0                         0   \n3          yes                      35                         0   \n4          yes                       0                         0   \n\n   max_credits/semester    student_name  \n0                    16    Mariam Naser  \n1                     0     Ahmed Yehia  \n2                     0    Toaa Youssef  \n3                    16  Moustafa Tamer  \n4                    12    Mariam Tamer  ",
      "text/html": "<div>\n<style scoped>\n    .dataframe tbody tr th:only-of-type {\n        vertical-align: middle;\n    }\n\n    .dataframe tbody tr th {\n        vertical-align: top;\n    }\n\n    .dataframe thead th {\n        text-align: right;\n    }\n</style>\n<table border=\"1\" class=\"dataframe\">\n  <thead>\n    <tr style=\"text-align: right;\">\n      <th></th>\n      <th>Unnamed: 0</th>\n      <th>student_id</th>\n      <th>student_major</th>\n      <th>student_age</th>\n      <th>student_gpa</th>\n      <th>is_undergrad</th>\n      <th>scholarship_percentage</th>\n      <th>student_outstanding_fees</th>\n      <th>max_credits/semester</th>\n      <th>student_name</th>\n    </tr>\n  </thead>\n  <tbody>\n    <tr>\n      <th>0</th>\n      <td>0</td>\n      <td>1</td>\n      <td>Science</td>\n      <td>24</td>\n      <td>3.91</td>\n      <td>yes</td>\n      <td>35</td>\n      <td>0</td>\n      <td>16</td>\n      <td>Mariam Naser</td>\n    </tr>\n    <tr>\n      <th>1</th>\n      <td>1</td>\n      <td>2</td>\n      <td>Engineering</td>\n      <td>23</td>\n      <td>0.92</td>\n      <td>yes</td>\n      <td>0</td>\n      <td>0</td>\n      <td>0</td>\n      <td>Ahmed Yehia</td>\n    </tr>\n    <tr>\n      <th>2</th>\n      <td>2</td>\n      <td>3</td>\n      <td>Computer Science</td>\n      <td>20</td>\n      <td>1.10</td>\n      <td>yes</td>\n      <td>0</td>\n      <td>0</td>\n      <td>0</td>\n      <td>Toaa Youssef</td>\n    </tr>\n    <tr>\n      <th>3</th>\n      <td>3</td>\n      <td>4</td>\n      <td>Mathematics</td>\n      <td>22</td>\n      <td>3.73</td>\n      <td>yes</td>\n      <td>35</td>\n      <td>0</td>\n      <td>16</td>\n      <td>Moustafa Tamer</td>\n    </tr>\n    <tr>\n      <th>4</th>\n      <td>4</td>\n      <td>5</td>\n      <td>Science</td>\n      <td>21</td>\n      <td>1.59</td>\n      <td>yes</td>\n      <td>0</td>\n      <td>0</td>\n      <td>12</td>\n      <td>Mariam Tamer</td>\n    </tr>\n  </tbody>\n</table>\n</div>"
     },
     "execution_count": 1,
     "metadata": {},
     "output_type": "execute_result"
    }
   ],
   "source": [
    "import pandas as pd\n",
    "df =  pd.read_csv(\"financials.csv\")\n",
    "df.head()"
   ],
   "metadata": {
    "collapsed": false,
    "ExecuteTime": {
     "end_time": "2023-12-29T11:14:57.653955Z",
     "start_time": "2023-12-29T11:14:57.332237Z"
    }
   },
   "id": "bcfc90692bffe316"
  },
  {
   "cell_type": "code",
   "execution_count": 60,
   "outputs": [
    {
     "name": "stdout",
     "output_type": "stream",
     "text": [
      "[{'major': 'Computer Science', 'value': 766}, {'major': 'Engineering', 'value': 738}, {'major': 'Mathematics', 'value': 731}, {'major': 'Science', 'value': 765}]\n"
     ]
    }
   ],
   "source": [
    "    import sqlite3\n",
    "    conn = sqlite3.connect('university.db')\n",
    "\n",
    "    query = 'SELECT student_id, student_major FROM students'\n",
    "    df = pd.read_sql_query(query, conn)\n",
    "\n",
    "    df_grouped = df.groupby(\"student_major\")[\"student_id\"].count()\n",
    "\n",
    "    conn.close()\n",
    "\n",
    "    data = [{\"major\": major, \"value\": count} for major, count in zip(df_grouped.index.tolist(), df_grouped.tolist())]\n",
    "    print(data)"
   ],
   "metadata": {
    "collapsed": false,
    "ExecuteTime": {
     "end_time": "2023-12-27T19:30:42.747242Z",
     "start_time": "2023-12-27T19:30:42.731971Z"
    }
   },
   "id": "5de1e3efa7ddda18"
  },
  {
   "cell_type": "code",
   "execution_count": 100,
   "outputs": [
    {
     "name": "stdout",
     "output_type": "stream",
     "text": [
      "                                count\n",
      "student_major    student_batch       \n",
      "Computer Science 2020              91\n",
      "                 2021             192\n",
      "                 2022             207\n",
      "                 2023             186\n",
      "                 2024             103\n",
      "Engineering      2020              85\n",
      "                 2021             186\n",
      "                 2022             208\n",
      "                 2023             178\n",
      "                 2024              95\n",
      "Mathematics      2020             100\n",
      "                 2021             184\n",
      "                 2022             155\n",
      "                 2023             168\n",
      "                 2024              91\n",
      "Science          2020              92\n",
      "                 2021             187\n",
      "                 2022             219\n",
      "                 2023             179\n",
      "                 2024              94\n",
      "{'Computer Science': [{'ax': '2020', 'ay': 91}, {'ax': '2021', 'ay': 192}, {'ax': '2022', 'ay': 207}, {'ax': '2023', 'ay': 186}, {'ax': '2024', 'ay': 103}], 'Engineering': [{'ax': '2020', 'ay': 85}, {'ax': '2021', 'ay': 186}, {'ax': '2022', 'ay': 208}, {'ax': '2023', 'ay': 178}, {'ax': '2024', 'ay': 95}], 'Mathematics': [{'ax': '2020', 'ay': 100}, {'ax': '2021', 'ay': 184}, {'ax': '2022', 'ay': 155}, {'ax': '2023', 'ay': 168}, {'ax': '2024', 'ay': 91}], 'Science': [{'ax': '2020', 'ay': 92}, {'ax': '2021', 'ay': 187}, {'ax': '2022', 'ay': 219}, {'ax': '2023', 'ay': 179}, {'ax': '2024', 'ay': 94}]}\n"
     ]
    }
   ],
   "source": [
    "import sqlite3\n",
    "import pandas as pd\n",
    "\n",
    "conn = sqlite3.connect('university.db')\n",
    "\n",
    "query = \"\"\"SELECT student_major, student_batch, count(student_id) as count FROM students\n",
    "         GROUP BY student_major, student_batch\"\"\"\n",
    "\n",
    "df = pd.read_sql_query(query, conn)\n",
    "df.set_index([\"student_major\", \"student_batch\"], inplace=True)\n",
    "\n",
    "conn.close()\n",
    "\n",
    "result = {}\n",
    "\n",
    "for key, value in df.iterrows():\n",
    "    category, year = key\n",
    "    if category not in result:\n",
    "        result[category] = []\n",
    "    result[category].append({\"ax\": str(year), \"ay\": value['count']})\n",
    "\n",
    "for category in result:\n",
    "    result[category] = sorted(result[category], key=lambda x: x[\"ax\"])\n",
    "\n",
    "result = dict(sorted(result.items()))\n",
    "print(result)\n",
    "\n",
    "\n",
    "\n",
    "\n"
   ],
   "metadata": {
    "collapsed": false,
    "ExecuteTime": {
     "end_time": "2023-12-29T20:19:13.166489Z",
     "start_time": "2023-12-29T20:19:13.151942Z"
    }
   },
   "id": "88b72a2964f1119a"
  },
  {
   "cell_type": "code",
   "execution_count": 274,
   "outputs": [
    {
     "name": "stdout",
     "output_type": "stream",
     "text": [
      "[{'instructor_name': 'Abdelrahman Yehia, Fall 2019', 'minimum_score': 1.48, 'actual': 4.7, 'average': 3.05, 'maximum_score': 4.76}, {'instructor_name': 'Esraa Tamer, Fall 2019', 'minimum_score': 1.48, 'actual': 2.79, 'average': 3.05, 'maximum_score': 4.76}, {'instructor_name': 'Esraa Tamer, Spring 2019', 'minimum_score': 1.48, 'actual': 2.78, 'average': 3.05, 'maximum_score': 4.76}, {'instructor_name': 'Sabah Khalid, Spring 2020', 'minimum_score': 1.48, 'actual': 3.43, 'average': 3.05, 'maximum_score': 4.76}, {'instructor_name': 'Yousra Youssef, Summer 2020', 'minimum_score': 1.48, 'actual': 1.95, 'average': 3.05, 'maximum_score': 4.76}, {'instructor_name': 'Mohamed Yehia, Spring 2020', 'minimum_score': 1.48, 'actual': 2.98, 'average': 3.05, 'maximum_score': 4.76}, {'instructor_name': 'Naser Abdelrahman, Summer 2021', 'minimum_score': 1.48, 'actual': 4.7, 'average': 3.05, 'maximum_score': 4.76}, {'instructor_name': 'Moustafa Mahmoud, Spring 2021', 'minimum_score': 1.48, 'actual': 3.45, 'average': 3.05, 'maximum_score': 4.76}, {'instructor_name': 'Yehia Youssef, Fall 2021', 'minimum_score': 1.48, 'actual': 2.11, 'average': 3.05, 'maximum_score': 4.76}, {'instructor_name': 'Mahmoud Tamer, Spring 2022', 'minimum_score': 1.48, 'actual': 1.84, 'average': 3.05, 'maximum_score': 4.76}, {'instructor_name': 'Esraa Abdelrahman, Summer 2022', 'minimum_score': 1.48, 'actual': 4.65, 'average': 3.05, 'maximum_score': 4.76}, {'instructor_name': 'Yousra Youssef, Spring 2022', 'minimum_score': 1.48, 'actual': 2.2, 'average': 3.05, 'maximum_score': 4.76}, {'instructor_name': 'Yehia Mahmoud, Summer 2023', 'minimum_score': 1.48, 'actual': 1.25, 'average': 3.05, 'maximum_score': 4.76}, {'instructor_name': 'Yehia Mahmoud, Fall 2023', 'minimum_score': 1.48, 'actual': 1.46, 'average': 3.05, 'maximum_score': 4.76}, {'instructor_name': 'Naser Abdelrahman, Summer 2023', 'minimum_score': 1.48, 'actual': 4.09, 'average': 3.05, 'maximum_score': 4.76}, {'instructor_name': 'Mohamed Yehia, Fall 2024', 'minimum_score': 1.48, 'actual': 3.32, 'average': 3.05, 'maximum_score': 4.76}, {'instructor_name': 'Esraa Abdelrahman, Summer 2024', 'minimum_score': 1.48, 'actual': 4.29, 'average': 3.05, 'maximum_score': 4.76}, {'instructor_name': 'Khalid Mahmoud, Summer 2024', 'minimum_score': 1.48, 'actual': 2.28, 'average': 3.05, 'maximum_score': 4.76}]\n"
     ]
    }
   ],
   "source": [
    "import sqlite3\n",
    "import pandas as pd\n",
    "import random\n",
    "\n",
    "selected_course = \"CSAI 101\"\n",
    "\n",
    "conn = sqlite3.connect('university.db')\n",
    "query = f\"\"\"SELECT courses.course_code, instructors.instructor_rating,instructors.instructor_name,course_semester, courses.course_year\n",
    "FROM courses\n",
    "INNER JOIN instructors ON courses.course_instructor = instructors.instructor_id\n",
    "where course_code like '{selected_course}'\"\"\"\n",
    "df = pd.read_sql_query(query, conn)\n",
    "conn.close()\n",
    "df[\"instructor_rating\"] = round(df[\"instructor_rating\"] + random.uniform(-0.5, 0.5), 2)\n",
    "df[\"instructor_rating\"] = df[\"instructor_rating\"].apply(lambda x: 5 if x > 5 else x)\n",
    "minimum = df[\"instructor_rating\"].min()\n",
    "mean = round(df[\"instructor_rating\"].mean(), 2)\n",
    "maximum = df[\"instructor_rating\"].max()\n",
    "list = []\n",
    "# drop duplicates on instructor name,rating, and year\n",
    "for i in df.iterrows():\n",
    "    list.append(\n",
    "        {\"instructor_name\": i[1][\"instructor_name\"] + \", \" + i[1][\"course_semester\"] + \" \" + str(\n",
    "            i[1][\"course_year\"]), \"minimum_score\": minimum,\n",
    "         \"actual\": round((i[1][\"instructor_rating\"] + random.uniform(-0.5, 0.5)), 2),\n",
    "         \"average\": mean, \"maximum_score\": maximum})\n",
    "conn.close()\n",
    "print(list)\n",
    "\n"
   ],
   "metadata": {
    "collapsed": false,
    "ExecuteTime": {
     "end_time": "2023-12-30T19:09:27.694633Z",
     "start_time": "2023-12-30T19:09:27.682813Z"
    }
   },
   "id": "5ceadf7d39abafb5"
  },
  {
   "cell_type": "code",
   "execution_count": 182,
   "outputs": [],
   "source": [],
   "metadata": {
    "collapsed": false,
    "ExecuteTime": {
     "end_time": "2023-12-30T15:16:39.158540Z",
     "start_time": "2023-12-30T15:16:39.157137Z"
    }
   },
   "id": "75a5c57b7f77a268"
  },
  {
   "cell_type": "code",
   "execution_count": 180,
   "outputs": [
    {
     "name": "stdout",
     "output_type": "stream",
     "text": [
      "I87\n"
     ]
    }
   ],
   "source": [
    "\n"
   ],
   "metadata": {
    "collapsed": false,
    "ExecuteTime": {
     "end_time": "2023-12-30T14:59:16.895782Z",
     "start_time": "2023-12-30T14:59:16.860254Z"
    }
   },
   "id": "e63db4b14164d07f"
  },
  {
   "cell_type": "code",
   "execution_count": 238,
   "outputs": [
    {
     "name": "stdout",
     "output_type": "stream",
     "text": [
      "['CSAI 101', 'CSAI 102', 'CSAI 151', 'CSAI 201', 'CSAI 202', 'CSAI 203', 'CSAI 204', 'CSAI 205', 'CSAI 251', 'CSAI 252', 'CSAI 253', 'CSAI 301', 'CSAI 399', 'CSAI 498', 'CSAI 499', 'DSAI 103', 'DSAI 104', 'DSAI 201', 'DSAI 202', 'DSAI 203', 'DSAI 305', 'DSAI 307', 'DSAI 308', 'DSAI 325', 'DSAI 352', 'DSAI 353', 'DSAI 402', 'DSAI 403', 'DSAI 406', 'DSAI 413', 'DSAI 414', 'DSAI 415', 'DSAI 416', 'DSAI 417', 'DSAI 418', 'DSAI 427', 'DSAI 431', 'DSAI 433', 'DSAI 456', 'DSAI 473', 'DSAI 490']\n",
      "['Data Science', 'Information Technology', 'Software Engineering', 'Mathematics', 'Engineering', 'Science']\n"
     ]
    }
   ],
   "source": [
    "\n",
    "major = \"Data Science\"\n",
    "\n",
    "conn = sqlite3.connect('university.db')\n",
    "\n",
    "query = \"\"\"SELECT distinct(course_title) FROM courses\n",
    "  \"\"\"\n",
    "\n",
    "pandas_query = f\"SELECT distinct(course_code) FROM courses WHERE course_title LIKE '%{major}%'\"\n",
    "df = pd.read_sql_query(pandas_query, conn)\n",
    "df_m = pd.read_sql_query(query, conn)\n",
    "\n",
    "courses = df[\"course_code\"].tolist()\n",
    "courses_m = df_m[\"course_title\"].tolist()\n",
    "\n",
    "conn.close()\n",
    "print(courses)\n",
    "print(courses_m)"
   ],
   "metadata": {
    "collapsed": false,
    "ExecuteTime": {
     "end_time": "2023-12-30T17:05:09.775024Z",
     "start_time": "2023-12-30T17:05:09.753141Z"
    }
   },
   "id": "ff7634f6073de64e"
  },
  {
   "cell_type": "code",
   "execution_count": null,
   "outputs": [],
   "source": [],
   "metadata": {
    "collapsed": false
   },
   "id": "adcc6e9114dbb3de"
  }
 ],
 "metadata": {
  "kernelspec": {
   "display_name": "Python 3",
   "language": "python",
   "name": "python3"
  },
  "language_info": {
   "codemirror_mode": {
    "name": "ipython",
    "version": 2
   },
   "file_extension": ".py",
   "mimetype": "text/x-python",
   "name": "python",
   "nbconvert_exporter": "python",
   "pygments_lexer": "ipython2",
   "version": "2.7.6"
  }
 },
 "nbformat": 4,
 "nbformat_minor": 5
}
