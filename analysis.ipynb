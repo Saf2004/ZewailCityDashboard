{
 "cells": [
  {
   "cell_type": "code",
   "execution_count": 26,
   "id": "initial_id",
   "metadata": {
    "collapsed": true,
    "ExecuteTime": {
     "end_time": "2023-12-31T20:13:38.222638Z",
     "start_time": "2023-12-31T20:13:38.203908Z"
    }
   },
   "outputs": [
    {
     "name": "stdout",
     "output_type": "stream",
     "text": [
      "[51.9, 48.1, 48.0, 52.4]\n"
     ]
    }
   ],
   "source": [
    "import sqlite3\n",
    "import pandas as pd\n",
    "\n",
    "\n",
    "conn = sqlite3.connect('university.db')\n",
    "\n",
    "query = \"SELECT * FROM instructors\"\n",
    "df_i = pd.read_sql_query(query, conn)\n",
    "\n",
    "df_g = df_i[df_i['instructor_rating'] > df_i['instructor_rating'].mean() ]\n",
    "\n",
    "count = []\n",
    "for i in range(4):\n",
    "    count.append(round(df_g['department'].value_counts().iloc[i]/df_i['department'].value_counts().iloc[i]*100,1))\n",
    "\n",
    "print(count)\n",
    "\n",
    "\n"
   ]
  },
  {
   "cell_type": "code",
   "execution_count": null,
   "outputs": [],
   "source": [],
   "metadata": {
    "collapsed": false
   },
   "id": "139a47e2ec5dd736"
  }
 ],
 "metadata": {
  "kernelspec": {
   "display_name": "Python 3",
   "language": "python",
   "name": "python3"
  },
  "language_info": {
   "codemirror_mode": {
    "name": "ipython",
    "version": 2
   },
   "file_extension": ".py",
   "mimetype": "text/x-python",
   "name": "python",
   "nbconvert_exporter": "python",
   "pygments_lexer": "ipython2",
   "version": "2.7.6"
  }
 },
 "nbformat": 4,
 "nbformat_minor": 5
}
